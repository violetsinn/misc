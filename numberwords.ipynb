{
 "cells": [
  {
   "cell_type": "code",
   "execution_count": 5,
   "metadata": {
    "collapsed": true
   },
   "outputs": [],
   "source": [
    "ones = [\"\", \"one\", \"two\", \"three\", \"four\", \"five\", \"six\", \"seven\", \"eight\", \"nine\"]\n",
    "teens = [\"eleven\", \"twelve\", \"thirteen\", \"fourteen\", \"fifteen\", \"sixteen\", \"seventeen\", \"eighteen\", \"nineteen\"]\n",
    "tens = [\"ten\", \"twenty\", \"thirty\", \"forty\", \"fifty\", \"sixty\", \"seventy\", \"eighty\", \"ninety\"]\n",
    "\n",
    "def get_digit(number, n):\n",
    "    return number // 10 ** n % 10\n",
    "\n",
    "def words(num):\n",
    "    if num < 10:\n",
    "        ones_place = num\n",
    "        return ones[ones_place]\n",
    "    else:\n",
    "        digits = len(str(num))\n",
    "        counter = 1\n",
    "        if digits > counter:\n",
    "            tens_place = (num // 10) - 1\n",
    "            if tens_place == 1:\n",
    "                counter += 1\n",
    "                return teens[tens_place]"
   ]
  },
  {
   "cell_type": "code",
   "execution_count": 6,
   "metadata": {
    "collapsed": true
   },
   "outputs": [],
   "source": [
    "ones = [\"one\", \"two\", \"three\", \"four\", \"five\", \"six\", \"seven\", \"eight\", \"nine\"]\n",
    "teens = [\"eleven\", \"twelve\", \"thirteen\", \"fourteen\", \"fifteen\", \"sixteen\", \"seventeen\", \"eighteen\", \"nineteen\"]\n",
    "tens = [\"ten\", \"twenty\", \"thirty\", \"forty\", \"fifty\", \"sixty\", \"seventy\", \"eighty\", \"ninety\"]\n",
    "\n",
    "def words2(num):\n",
    "    \n",
    "    if num < 10:\n",
    "        return ones[num -1]\n",
    "    while num >= 10:\n",
    "        digits = len(str(num)) - 1\n",
    "        divisor = 10**digits\n",
    "        remainder = num - 10**digits\n",
    "        num = num // divisor\n",
    "    return words2(num) + ' ' + words2(remainder)"
   ]
  },
  {
   "cell_type": "code",
   "execution_count": 7,
   "metadata": {
    "collapsed": true
   },
   "outputs": [],
   "source": [
    "ones = [\"\", \"one\", \"two\", \"three\", \"four\", \"five\", \"six\", \"seven\", \"eight\", \"nine\"]\n",
    "teens = [\"ten\", \"eleven\", \"twelve\", \"thirteen\", \"fourteen\", \"fifteen\", \"sixteen\", \"seventeen\", \"eighteen\", \"nineteen\"]\n",
    "tens = [\"\", \"ten\", \"twenty\", \"thirty\", \"forty\", \"fifty\", \"sixty\", \"seventy\", \"eighty\", \"ninety\"]\n",
    "\n",
    "def words4(num):\n",
    "    digits = len(str(num))\n",
    "    \n",
    "    # numbers betwen 0- 9\n",
    "    if digits == 1:\n",
    "        return ones[num]\n",
    "    \n",
    "    # numbers between 10- 19\n",
    "    if num // 10 == 1:\n",
    "        digits -= 1\n",
    "        num == 0\n",
    "        return teens[(num - 10)]\n",
    "    \n",
    "    # numbers between 20- 99\n",
    "    if num < 100:\n",
    "        return tens[(num // 10)] + ' ' + ones[(num - (10 * (num // 10)))]\n",
    "    \n",
    "    # numbers between 100- 999\n",
    "    while digits > 2:\n",
    "        if num // 100 < 10:\n",
    "            digits -= 1\n",
    "            return ones[num // 100] + ' hundred and ' + words4(num % 100)\n",
    "        \n",
    "    # numbers between 1,000- 9,999\n",
    "        if num // 1000 >= 1:\n",
    "            if num // 1000 < 10:\n",
    "                digits -= 1\n",
    "                return ones[num // 1000] + ' thousand, ' + words4(num % 1000)\n",
    "            \n",
    "    # numbers between 10,000- 19,999\n",
    "            elif num // 1000 < 20:\n",
    "                digits -= 1\n",
    "                return teens[(num // 1000) % 10] + ' thousand, ' + words4(num % 1000)"
   ]
  },
  {
   "cell_type": "code",
   "execution_count": 11,
   "metadata": {
    "collapsed": true
   },
   "outputs": [],
   "source": [
    "ones = [\"\", \"one\", \"two\", \"three\", \"four\", \"five\", \"six\", \"seven\", \"eight\", \"nine\"]\n",
    "teens = [\"ten\", \"eleven\", \"twelve\", \"thirteen\", \"fourteen\", \"fifteen\", \"sixteen\", \"seventeen\", \"eighteen\", \"nineteen\"]\n",
    "tens = [\"\", \"ten\", \"twenty\", \"thirty\", \"forty\", \"fifty\", \"sixty\", \"seventy\", \"eighty\", \"ninety\"]\n",
    "\n",
    "def words6(num):\n",
    "    digits = len(str(num))\n",
    "    \n",
    "    # numbers betwen 0- 9\n",
    "    if digits == 1:\n",
    "        return ones[num]\n",
    "    \n",
    "    # numbers between 10- 19\n",
    "    if num // 10 == 1:\n",
    "        digits -= 1\n",
    "        num == 0\n",
    "        return teens[(num - 10)]\n",
    "    \n",
    "    # numbers between 20- 99\n",
    "    if num < 100:\n",
    "        return tens[(num // 10)] + ' ' + ones[(num - (10 * (num // 10)))]\n",
    "    \n",
    "    # numbers between 100- 999\n",
    "    while digits > 2:\n",
    "        if num // 100 < 10:\n",
    "            digits -= 1\n",
    "            return ones[num // 100] + ' hundred ' + words6(num % 100)\n",
    "    \n",
    "    # numbers between 1,000- 999,999\n",
    "        thousands = int(str(num)[:-3])\n",
    "        return words6(thousands) + ' thousand ' + words6(int(str(num)[-3:]))\n",
    "    "
   ]
  },
  {
   "cell_type": "code",
   "execution_count": 25,
   "metadata": {},
   "outputs": [
    {
     "data": {
      "text/plain": [
       "'forty  thousand nine'"
      ]
     },
     "execution_count": 25,
     "metadata": {},
     "output_type": "execute_result"
    }
   ],
   "source": [
    "words6(40009)"
   ]
  },
  {
   "cell_type": "code",
   "execution_count": 45,
   "metadata": {},
   "outputs": [
    {
     "data": {
      "text/plain": [
       "'654'"
      ]
     },
     "execution_count": 45,
     "metadata": {},
     "output_type": "execute_result"
    }
   ],
   "source": [
    "str(17654)[-3:]"
   ]
  },
  {
   "cell_type": "code",
   "execution_count": null,
   "metadata": {
    "collapsed": true
   },
   "outputs": [],
   "source": [
    "ones = [\"\", \"one\", \"two\", \"three\", \"four\", \"five\", \"six\", \"seven\", \"eight\", \"nine\"]\n",
    "teens = [\"\", \"eleven\", \"twelve\", \"thirteen\", \"fourteen\", \"fifteen\", \"sixteen\", \"seventeen\", \"eighteen\", \"nineteen\"]\n",
    "tens = [\"\", \"ten\", \"twenty\", \"thirty\", \"forty\", \"fifty\", \"sixty\", \"seventy\", \"eighty\", \"ninety\"]\n",
    "\n",
    "\n",
    "def words5(num):\n",
    "    digits = len(str(num))\n",
    "    \n",
    "    # ones\n",
    "    if num // 10 == 0:\n",
    "        return ones[num]\n",
    "    \n",
    "    # teens\n",
    "    if num // 10 == 1:\n",
    "        return teens[num]\n",
    "    \n",
    "    # tens\n",
    "    if num % 10 == 0 and num < 99:\n",
    "        return tens[num // 10]\n",
    "    \n",
    "    while digits >= 2:\n",
    "        \n",
    "        # millions\n",
    "        if num // (10 ** 6) >= 1:\n",
    "            return ones[num // (10 ** 6)] + \" million\" + words5(num - (10 ** 6))\n",
    "        if num // (10 ** 5) >= 1:\n",
    "            return \" \" + ones[num // (10 ** 5)] + \" hundred thousand\" + words5(num - (num * (10 ** 5)))\n",
    "        if num // (10 ** 4) >= 2 and num % (10 ** 4) == 0:\n",
    "            return tens[num // (10 ** 4)] + \" thousand\" + words5((num // (10 ** 4)) * (10 **4))\n",
    "        elif num // (10 ** 4) == 1:\n",
    "            return teens[(num // (10 ** 3)) - 10] + \" thousand\"\n",
    "            "
   ]
  },
  {
   "cell_type": "code",
   "execution_count": null,
   "metadata": {
    "collapsed": true
   },
   "outputs": [],
   "source": [
    "words5(1000000)"
   ]
  },
  {
   "cell_type": "code",
   "execution_count": null,
   "metadata": {
    "collapsed": true
   },
   "outputs": [],
   "source": [
    "212000 - (10**5)"
   ]
  },
  {
   "cell_type": "code",
   "execution_count": null,
   "metadata": {
    "collapsed": true
   },
   "outputs": [],
   "source": [
    "1200000 - (10**6)"
   ]
  },
  {
   "cell_type": "code",
   "execution_count": null,
   "metadata": {
    "collapsed": true
   },
   "outputs": [],
   "source": [
    "int(str(1521)[1:2])"
   ]
  },
  {
   "cell_type": "code",
   "execution_count": null,
   "metadata": {
    "collapsed": true
   },
   "outputs": [],
   "source": [
    "        hundreds_digit = int(num / (10 ** (digits - 1)))\n",
    "        output = ones[hundreds_digit] + ' hundred and ' + words4(num % 100)\n",
    "        if digits > 3:\n",
    "            thousands_digit =  \n",
    "            output = ones[second_digit] + ' thousand, ' + output\n",
    "            if digits > 4:\n",
    "                third_digit = int(str(num)[2:3])\n",
    "                if num // 1000 == 1:\n",
    "                    output = teens[third_digit - 1] + ' thousand, ' + output\n",
    "    return output"
   ]
  },
  {
   "cell_type": "code",
   "execution_count": null,
   "metadata": {
    "collapsed": true
   },
   "outputs": [],
   "source": [
    "326 // (10** (3 - 1))"
   ]
  },
  {
   "cell_type": "code",
   "execution_count": null,
   "metadata": {
    "collapsed": true
   },
   "outputs": [],
   "source": [
    "str(16)[0]"
   ]
  },
  {
   "cell_type": "code",
   "execution_count": null,
   "metadata": {
    "collapsed": true
   },
   "outputs": [],
   "source": [
    "return tens[(num // 10) - 1] + ' ' + ones[(num - 10) - 1]"
   ]
  },
  {
   "cell_type": "code",
   "execution_count": null,
   "metadata": {
    "collapsed": true
   },
   "outputs": [],
   "source": [
    "tens[1]"
   ]
  },
  {
   "cell_type": "code",
   "execution_count": null,
   "metadata": {
    "collapsed": true
   },
   "outputs": [],
   "source": [
    "words2(162)"
   ]
  },
  {
   "cell_type": "code",
   "execution_count": null,
   "metadata": {
    "collapsed": true
   },
   "outputs": [],
   "source": [
    "len(str(162)) - 1"
   ]
  },
  {
   "cell_type": "code",
   "execution_count": null,
   "metadata": {
    "collapsed": true
   },
   "outputs": [],
   "source": [
    "10**2"
   ]
  },
  {
   "cell_type": "code",
   "execution_count": null,
   "metadata": {
    "collapsed": true
   },
   "outputs": [],
   "source": [
    "162//100"
   ]
  },
  {
   "cell_type": "code",
   "execution_count": null,
   "metadata": {
    "collapsed": true
   },
   "outputs": [],
   "source": [
    "words2(1)"
   ]
  },
  {
   "cell_type": "code",
   "execution_count": null,
   "metadata": {
    "collapsed": true
   },
   "outputs": [],
   "source": [
    "16 // 10"
   ]
  },
  {
   "cell_type": "code",
   "execution_count": null,
   "metadata": {
    "collapsed": true
   },
   "outputs": [],
   "source": [
    "tens[6]"
   ]
  },
  {
   "cell_type": "code",
   "execution_count": null,
   "metadata": {
    "collapsed": true
   },
   "outputs": [],
   "source": [
    "ones = [\"\", \"one\", \"two\", \"three\", \"four\", \"five\", \"six\", \"seven\", \"eight\", \"nine\"]\n",
    "teens = [\"eleven\", \"twelve\", \"thirteen\", \"fourteen\", \"fifteen\", \"sixteen\", \"seventeen\", \"eighteen\", \"nineteen\"]\n",
    "tens = [\"ten\", \"twenty\", \"thirty\", \"forty\", \"fifty\", \"sixty\", \"seventy\", \"eighty\", \"ninety\"]\n",
    "\n",
    "def words4(num):\n",
    "    digits = len(str(num))\n",
    "    if digits == 1:\n",
    "        return ones[num - 1]\n",
    "    while digits > 1:\n",
    "        if num // 10 == 1:\n",
    "            digits -= 1\n",
    "            num == 0\n",
    "            return teens[(num - 10) - 1]\n",
    "        else:\n",
    "            digits -= 1\n",
    "            return tens[(num // 10) - 1] + ' ' + ones[(num - (10 * (num // 10))) - 1]"
   ]
  }
 ],
 "metadata": {
  "kernelspec": {
   "display_name": "Python 3",
   "language": "python",
   "name": "python3"
  },
  "language_info": {
   "codemirror_mode": {
    "name": "ipython",
    "version": 3
   },
   "file_extension": ".py",
   "mimetype": "text/x-python",
   "name": "python",
   "nbconvert_exporter": "python",
   "pygments_lexer": "ipython3",
   "version": "3.6.3"
  }
 },
 "nbformat": 4,
 "nbformat_minor": 2
}
